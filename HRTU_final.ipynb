{
 "cells": [
  {
   "cell_type": "code",
   "execution_count": 1,
   "metadata": {},
   "outputs": [],
   "source": [
    "# Order of Executing\n",
    "# If you want to run on a different Query then start from 9"
   ]
  },
  {
   "cell_type": "code",
   "execution_count": 2,
   "metadata": {},
   "outputs": [],
   "source": [
    "# Order of Executing : 1\n",
    "from rtree import index\n",
    "import csv\n",
    "import pandas as pd\n",
    "import numpy as np\n",
    "import timeit\n",
    "import vptree\n",
    "import random\n",
    "from scipy.spatial import distance\n",
    "from sklearn.cluster import KMeans\n",
    "from sklearn.neighbors import KDTree"
   ]
  },
  {
   "cell_type": "code",
   "execution_count": 3,
   "metadata": {},
   "outputs": [],
   "source": [
    "# Order of Executing : 2\n",
    "data = pd.read_csv(\"HTRU_2.csv\",header=None,sep=',') # Loading the data\n",
    "data = np.array(data) # converting to numpy array\n",
    "target = data[:,8] # target is the class variable,spambase 57th col is the class variable\n",
    "data = np.array(data[:,0:8]) # Remaining data"
   ]
  },
  {
   "cell_type": "code",
   "execution_count": 4,
   "metadata": {},
   "outputs": [
    {
     "data": {
      "text/plain": [
       "(17898, 8)"
      ]
     },
     "execution_count": 4,
     "metadata": {},
     "output_type": "execute_result"
    }
   ],
   "source": [
    "# Order of Executing : 3\n",
    "data.shape\n",
    "# pd.DataFrame(data)\n",
    "# target"
   ]
  },
  {
   "cell_type": "code",
   "execution_count": 5,
   "metadata": {},
   "outputs": [
    {
     "name": "stdout",
     "output_type": "stream",
     "text": [
      "Time for creating R-Tree Index:  0.00553810000019439\n"
     ]
    }
   ],
   "source": [
    "# Order of Executing : 4 only for the first time\n",
    "# Creating the index\n",
    "start = timeit.default_timer()\n",
    "p = index.Property()\n",
    "p.dimension = data.shape[1]\n",
    "idx = index.Index('htru_final', properties=p, interleaved=False) # index name is biotrain_final which is stored in Disk\n",
    "# idx is the handler\n",
    "stop = timeit.default_timer()\n",
    "time_for_nn = stop-start\n",
    "print(\"Time for creating R-Tree Index: \",time_for_nn)"
   ]
  },
  {
   "cell_type": "code",
   "execution_count": 6,
   "metadata": {},
   "outputs": [],
   "source": [
    "# Order of Executing : 5\n",
    "# Assuming that all the points are d dimensional 2-D rectangles\n",
    "# On each coordinate axis we need two points (x,y) which we assume are the same.\n",
    "data_list = np.ones((data.shape[0],data.shape[1]*2))\n",
    "m = 0\n",
    "for i in range(data.shape[1]):\n",
    "    for j in range(data.shape[0]):\n",
    "#         print(m,n,j,i)\n",
    "#         print(m,n+1,j,i)\n",
    "        data_list[j,m] = data[j,i]\n",
    "        data_list[j,m+1] = data[j,i]\n",
    "    m = m + 2\n",
    "#         data_list_temp.append(data[i,j])\n",
    "#     print(data_list_temp)\n",
    "#     data_list.hstack(data_list_temp)\n",
    "#     data_list.hstack(data_list_temp)\n"
   ]
  },
  {
   "cell_type": "code",
   "execution_count": 7,
   "metadata": {},
   "outputs": [
    {
     "data": {
      "text/plain": [
       "(17898, 16)"
      ]
     },
     "execution_count": 7,
     "metadata": {},
     "output_type": "execute_result"
    }
   ],
   "source": [
    "# Order of Executing : 6\n",
    "data_list.shape"
   ]
  },
  {
   "cell_type": "code",
   "execution_count": 8,
   "metadata": {},
   "outputs": [
    {
     "data": {
      "text/plain": [
       "rtree.index.Index(bounds=[1.7976931348623157e+308, -1.7976931348623157e+308, 1.7976931348623157e+308, -1.7976931348623157e+308, 1.7976931348623157e+308, -1.7976931348623157e+308, 1.7976931348623157e+308, -1.7976931348623157e+308, 1.7976931348623157e+308, -1.7976931348623157e+308, 1.7976931348623157e+308, -1.7976931348623157e+308, 1.7976931348623157e+308, -1.7976931348623157e+308, 1.7976931348623157e+308, -1.7976931348623157e+308], size=0)"
      ]
     },
     "execution_count": 8,
     "metadata": {},
     "output_type": "execute_result"
    }
   ],
   "source": [
    "# Order of Executing : 7 \n",
    "idx"
   ]
  },
  {
   "cell_type": "code",
   "execution_count": 9,
   "metadata": {},
   "outputs": [],
   "source": [
    "# Order of Executing : 8 only for the first time\n",
    "# adding the rectangles to the R-Tree\n",
    "for i in range(0,data.shape[0]):\n",
    "    idx.add(i, (data_list[i]))"
   ]
  },
  {
   "cell_type": "code",
   "execution_count": 10,
   "metadata": {},
   "outputs": [],
   "source": [
    "k = 50"
   ]
  },
  {
   "cell_type": "code",
   "execution_count": 11,
   "metadata": {},
   "outputs": [],
   "source": [
    "# Order of Executing : 9\n",
    "# Querying the R-Tree for nearest neighbors\n",
    "def r_tree_query(query_id,idx):\n",
    "    start = timeit.default_timer()\n",
    "    rtree_nn = list(idx.nearest((data_list[query_id]),k))\n",
    "    stop = timeit.default_timer()\n",
    "    total_time = stop-start\n",
    "#     print(time_for_nn)\n",
    "#     print(\"Time for R-Tree nearest neighbors:\",time_for_nn)\n",
    "    classes_nn = []\n",
    "    for i in range(0,k):\n",
    "        classes_nn.append(int(target[rtree_nn[i]]))\n",
    "    classes_nn = pd.DataFrame(classes_nn)\n",
    "    count_classes = dict(classes_nn.groupby(0)[0].count())\n",
    "    classifier = max(count_classes, key=count_classes.get)\n",
    "#     print(bool(target[query_id] == classifier))\n",
    "    return total_time,bool(target[query_id] == classifier)\n",
    "#     print(\"The R-Tree classification is: \",bool(target[query_id] == classifier))"
   ]
  },
  {
   "cell_type": "code",
   "execution_count": null,
   "metadata": {},
   "outputs": [],
   "source": []
  },
  {
   "cell_type": "code",
   "execution_count": 31,
   "metadata": {},
   "outputs": [
    {
     "name": "stdout",
     "output_type": "stream",
     "text": [
      "KD-Tree Construction Time:  0.01637689999995473\n"
     ]
    }
   ],
   "source": [
    "# # Order of Executing : 10\n",
    "# # KD-Tree Construction and recording time\n",
    "# start = timeit.default_timer()\n",
    "# kd_tree = KDTree(data)\n",
    "# stop = timeit.default_timer()\n",
    "# total_time = stop-start\n",
    "# print(\"KD-Tree Construction Time: \",total_time)\n"
   ]
  },
  {
   "cell_type": "code",
   "execution_count": 32,
   "metadata": {},
   "outputs": [],
   "source": [
    "# def kd_tree_query(query_id,kd_tree):\n",
    "#     j=0\n",
    "#     # Querying KD-Tree and recording time\n",
    "#     start = timeit.default_timer()\n",
    "#     dist_dum , kdtree_nn = kd_tree.query([data[query_id]],10)\n",
    "#     stop = timeit.default_timer()\n",
    "#     total_time = stop-start\n",
    "# #     print(total_time)\n",
    "# #     print(\"KD-Tree Query time: \",total_time)\n",
    "#     # Classifying based on the nearest neigbors found by KD-Tree.\n",
    "#     kdtree_nn_temp = np.array(kdtree_nn)\n",
    "#     #Identifying the class of the nearest points.\n",
    "#     classes_nn = []\n",
    "#     for i in range(0,10):\n",
    "#         classes_nn.append(int(target[kdtree_nn_temp[0,i]]))\n",
    "#     classes_nn = pd.DataFrame(classes_nn)\n",
    "#     # print(classes_nn)\n",
    "#     # Finding the count of each class.\n",
    "#     count_classes = dict(classes_nn.groupby(0)[0].count())\n",
    "#     # print(count_classes)\n",
    "#     # len(count_classes)\n",
    "#     # Identifying the class based on the max count.\n",
    "#     classifier = max(count_classes, key=count_classes.get)\n",
    "#     return total_time,bool(target[query_id] == classifier)\n",
    "#     # print(classifier)\n",
    "#     # Checking whether the KD-Tree classification with the original classification\n",
    "# #     print(bool(target[query_id] == classifier))\n",
    "# #     print(\"The KD-Tree classification is: \",bool(target[query_id] == classifier))"
   ]
  },
  {
   "cell_type": "code",
   "execution_count": 33,
   "metadata": {},
   "outputs": [
    {
     "name": "stdout",
     "output_type": "stream",
     "text": [
      "0\n",
      "The Original classification based on 10 neighbours is:  True\n"
     ]
    }
   ],
   "source": [
    "# # Order of Executing : 11\n",
    "# # Identifying Original Nearest Neighbors\n",
    "# original_distances = []\n",
    "# for i in range(0,data.shape[0]):\n",
    "#     original_distances.append([i,distance.euclidean(data[10],data[i])]) # Appending [index,distance] to a list\n",
    "    \n",
    "\n",
    "# # Sorting the list based on the distance key\n",
    "# def second_sort(list_ret):\n",
    "#     return list_ret[1]\n",
    "# original_distances.sort(key = second_sort) # sorting based on second attribute\n",
    "\n",
    "# # Classifying based on the top 10\n",
    "# classes_nn = []\n",
    "# for i in range(0,10):\n",
    "#     classes_nn.append(int(target[original_distances[i][0]]))\n",
    "\n",
    "# classes_nn = pd.DataFrame(classes_nn)\n",
    "\n",
    "# # print(classes_nn)\n",
    "# # Finding the count of each class\n",
    "# count_classes = dict(classes_nn.groupby(0)[0].count())\n",
    "# classifier = max(count_classes, key=count_classes.get)\n",
    "# print(classifier)\n",
    "# print(\"The Original classification based on 10 neighbours is: \",bool(target[10] == classifier))\n",
    "# # Classifying based on highest count\n",
    "# # class_val = count_classes[0]\n",
    "# # classifier = 0\n",
    "# # for i in range(0,1): # here 1 is the number of classes in the data starting from 0.\n",
    "# #     if count_classes[i]> class_val:\n",
    "# #         classifier = i\n",
    "# # target[query_id] == classifier # If the target classifier and the tree classifier are same then print true else false.   \n",
    "\n",
    "# # Getting the data from the main data based on the sorted list first col, which is the index of the data\n",
    "# # original_result_data = []\n",
    "# # for i in range(0,11):\n",
    "# #     original_result_data.append(data_list[original_distances[0][0]]) # Getting only 11 data, coz 10 is k.\n",
    "# # print(original_result_data)"
   ]
  },
  {
   "cell_type": "code",
   "execution_count": 12,
   "metadata": {},
   "outputs": [],
   "source": [
    "# Order of Executing : 12 and Only once.\n",
    "# print(data_list)\n",
    "# data_list = pd.DataFrame(data_list)\n",
    "# print(data_list)\n",
    "# data_list[data_list.shape[1]] = np.arange(len(data_list))\n",
    "# print(data_list)\n",
    "# VP-Tree Data Structure\n",
    "data_list_vp = pd.DataFrame(data) # Converting into dataframe\n",
    "data_list_vp[data_list_vp.shape[1]] = np.arange(len(data_list_vp)) # Adding a col with index number to identify the nearest point in the data\n",
    "data_list_vp = np.array(data_list_vp) # COnverting back to array"
   ]
  },
  {
   "cell_type": "code",
   "execution_count": 13,
   "metadata": {},
   "outputs": [
    {
     "name": "stdout",
     "output_type": "stream",
     "text": [
      "Time for Indexing in VP-Tree is:  9.242449899998974\n"
     ]
    }
   ],
   "source": [
    "# Order of Executing : 13\n",
    "# print(data_list)\n",
    "# data_list.shape\n",
    "# data_list.shape\n",
    "start = timeit.default_timer()\n",
    "vp_tree = vptree.VPTree(data_list_vp,distance.euclidean) # Building the VP-Tree\n",
    "stop = timeit.default_timer()\n",
    "total_time = stop-start\n",
    "print(\"Time for Indexing in VP-Tree is: \",total_time)\n"
   ]
  },
  {
   "cell_type": "code",
   "execution_count": 15,
   "metadata": {},
   "outputs": [],
   "source": [
    "def vp_tree_query(query_id,vp_tree):\n",
    "    start = timeit.default_timer()\n",
    "    result = vp_tree.get_n_nearest_neighbors(data_list_vp[query_id],k) # Querying the Data Structure\n",
    "    stop = timeit.default_timer()\n",
    "    total_time = stop-start\n",
    "#     print(total_time)\n",
    "\n",
    "#     print(\"Time for Querying in VP-Tree is: \",total_time)\n",
    "    # Seggregating and Gathering the result into a list\n",
    "    # result_list = []\n",
    "    # for i in range(0,10):\n",
    "    #     result_list.append(result[i][1])\n",
    "\n",
    "    # for i in range(1,10):\n",
    "    #     print(result[i][1][data.shape[1]-1])\n",
    "\n",
    "    # print(\"VP-Tree Accuracy in NN: \",100-(len(np.setdiff1d(original_result_data,result_list))/10)*100)\n",
    "    # Finding the VP-Tree classification\n",
    "    # Obtain the results based on the last col of the data\n",
    "    # print(int(result[1][1][data_list.shape[1]-1]))\n",
    "    vptree_results = []\n",
    "    for i in range(1,k):\n",
    "        vptree_results.append(int(result[i][1][data_list_vp.shape[1]-1]))\n",
    "    \n",
    "    # print(vptree_results)\n",
    "    classes_nn = []\n",
    "    for i in range(0,len(vptree_results)):\n",
    "        classes_nn.append(int(target[vptree_results[i]]))\n",
    "    # print(np.array(classes_nn))\n",
    "\n",
    "    classes_nn = pd.DataFrame(classes_nn)\n",
    "    count_classes = dict(classes_nn.groupby(0)[0].count())\n",
    "    classifier = max(count_classes, key=count_classes.get)\n",
    "    # print(classifier)\n",
    "    # Classifying based on highest count\n",
    "    # class_val = count_classes[0]\n",
    "    # classifier = 0\n",
    "    # for i in range(0,1): # here 1 is the number of classes in the data starting from 0.\n",
    "    #     if count_classes[i]> class_val:\n",
    "    #         classifier = i\n",
    "#     print(bool(target[query_id] == classifier))\n",
    "    return [total_time,bool(target[query_id] == classifier)]\n",
    "#     print(\"The VP-Tree classification is: \",bool(target[query_id] == classifier)) \n",
    "    # If the target classifier and the tree classifier are same then print true else false."
   ]
  },
  {
   "cell_type": "code",
   "execution_count": 27,
   "metadata": {},
   "outputs": [],
   "source": [
    "# kdtree_nn_temp = kdtree_nn\n",
    "# kdtree_nn_temp = np.array(kdtree_nn)\n",
    "\n",
    "queries_n = 500\n",
    "rtee_query_time = []\n",
    "kd_tree_query_time = []\n",
    "vp_tree_query_time = []\n",
    "c = 0\n",
    "for i in range(queries_n):\n",
    "    c = c + 1\n",
    "    query_id = np.random.randint(0,data.shape[0]-1)\n",
    "    rtee_query_time.append([query_id,r_tree_query(query_id,idx)])\n",
    "#     kd_tree_query_time.append([query_id,kd_tree_query(query_id,kd_tree)])\n",
    "    vp_tree_query_time.append([query_id,vp_tree_query(query_id,vp_tree)])\n",
    "\n",
    "\n"
   ]
  },
  {
   "cell_type": "code",
   "execution_count": 28,
   "metadata": {},
   "outputs": [
    {
     "name": "stdout",
     "output_type": "stream",
     "text": [
      "500\n"
     ]
    }
   ],
   "source": [
    "print(c)"
   ]
  },
  {
   "cell_type": "code",
   "execution_count": 29,
   "metadata": {},
   "outputs": [
    {
     "name": "stdout",
     "output_type": "stream",
     "text": [
      "0.0021351475999908873\n",
      "98.4\n",
      "0.01112800219998462\n",
      "95.39999999999999\n"
     ]
    }
   ],
   "source": [
    "# Nearest points\n",
    "# kdtree_nn_temp = np.array(kdtree_nn_temp)\n",
    "# print(kdtree_nn_temp)\n",
    "# print(rtee_query_time,kd_tree_query_time,vp_tree_query_time)\n",
    "# for i in vp_tree_query_time:\n",
    "# #     print(i[1][0])\n",
    "#     print(i[0])\n",
    "avg = 0\n",
    "true_count = 0\n",
    "for i in rtee_query_time:\n",
    "    avg = avg + i[1][0]\n",
    "    if i[1][1] == True:\n",
    "        true_count = true_count + 1\n",
    "print(avg/queries_n)\n",
    "print((true_count/c)*100)\n",
    "\n",
    "avg = 0\n",
    "true_count = 0\n",
    "for i in vp_tree_query_time:\n",
    "    avg = avg + i[1][0]\n",
    "    if i[1][1] == True:\n",
    "        true_count = true_count + 1\n",
    "print(avg/queries_n)\n",
    "print((true_count/c)*100)\n",
    "\n",
    "# vp_tree_query_time"
   ]
  },
  {
   "cell_type": "code",
   "execution_count": 72,
   "metadata": {},
   "outputs": [],
   "source": [
    "# classes_nn = [target[kdtree_nn_temp] for i in range(0,10)]\n",
    "# # for i in range(0,10):\n",
    "# #     classes_nn.append(target[kdtree_nn[i]])\n",
    "# print(classes_nn)\n",
    "# print(kdtree_nn_temp[0,0])\n",
    "# Finding the class lables from the data\n",
    "# print(np.array(classes_nn))\n",
    "# classes_nn = ['A', 0, 1, 0, 2, 'A', 0, 'A', 3, 'A']\n",
    "# print(classes_nn)"
   ]
  },
  {
   "cell_type": "code",
   "execution_count": 73,
   "metadata": {},
   "outputs": [],
   "source": [
    "# classes_dict = {0:0,1:0}\n",
    "# print(classes_dict)\n",
    "# for i in range(0,10):\n",
    "#     classes_dict[classes_nn[i]] = classes_dict[classes_nn[i]]+1\n",
    "# print(classes_dict)\n"
   ]
  },
  {
   "cell_type": "code",
   "execution_count": null,
   "metadata": {},
   "outputs": [],
   "source": []
  },
  {
   "cell_type": "code",
   "execution_count": 74,
   "metadata": {},
   "outputs": [],
   "source": [
    "# # Classifying based on highest count\n",
    "# class_val = count_classes[0]\n",
    "# classifier = 0\n",
    "# for i in range(count_classes.shape[0]): # here 1 is the number of classes in the data starting from 0.\n",
    "#     if count_classes[i] > class_val:\n",
    "#         classifier = i\n"
   ]
  },
  {
   "cell_type": "code",
   "execution_count": 75,
   "metadata": {},
   "outputs": [],
   "source": [
    "# pd.DataFrame(target).groupby(0)[0].count()"
   ]
  },
  {
   "cell_type": "code",
   "execution_count": null,
   "metadata": {},
   "outputs": [],
   "source": []
  },
  {
   "cell_type": "code",
   "execution_count": null,
   "metadata": {},
   "outputs": [],
   "source": []
  },
  {
   "cell_type": "code",
   "execution_count": null,
   "metadata": {},
   "outputs": [],
   "source": []
  },
  {
   "cell_type": "code",
   "execution_count": null,
   "metadata": {},
   "outputs": [],
   "source": []
  },
  {
   "cell_type": "code",
   "execution_count": 76,
   "metadata": {},
   "outputs": [],
   "source": [
    "# Find the accuracy of RTree and record the indexing and querying times\n",
    "# Find the accuracy of KD-Tree and record the indexing and querying times\n",
    "# Find the accuracy of VP-Tree and record the indexing and querying times\n"
   ]
  },
  {
   "cell_type": "code",
   "execution_count": 77,
   "metadata": {},
   "outputs": [],
   "source": [
    "# result\n",
    "# count = 0\n",
    "# for i in data_list:\n",
    "#     if i in result_list:\n",
    "#         print(count)\n",
    "#     count +=count\n",
    "# data_list_vp = list(data_list)\n",
    "# for i in range(1,10):\n",
    "#     if result_list[i] in data_list:\n",
    "#         print(True)\n",
    "\n",
    "# for i in range(1,10):\n",
    "#     for j in range(0,data_list.shape[0]):\n",
    "#         if pd.DataFrame(result_list[i]) == pd.DataFrame(data_list[j]):\n",
    "#             print(j)\n",
    "\n",
    "\n",
    "# for i in range(0,len(data_list_vp)):\n",
    "#     if data_list_vp[i] in result_list:\n",
    "#         print(i)\n",
    "# print(type(result_list), type(data_list_vp))"
   ]
  },
  {
   "cell_type": "code",
   "execution_count": null,
   "metadata": {},
   "outputs": [],
   "source": []
  },
  {
   "cell_type": "code",
   "execution_count": null,
   "metadata": {},
   "outputs": [],
   "source": []
  }
 ],
 "metadata": {
  "kernelspec": {
   "display_name": "Python 3",
   "language": "python",
   "name": "python3"
  },
  "language_info": {
   "codemirror_mode": {
    "name": "ipython",
    "version": 3
   },
   "file_extension": ".py",
   "mimetype": "text/x-python",
   "name": "python",
   "nbconvert_exporter": "python",
   "pygments_lexer": "ipython3",
   "version": "3.7.4"
  }
 },
 "nbformat": 4,
 "nbformat_minor": 2
}
